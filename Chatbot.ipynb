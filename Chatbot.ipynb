{
 "cells": [
  {
   "cell_type": "code",
   "execution_count": null,
   "metadata": {},
   "outputs": [],
   "source": [
    "from chatterbot import ChatBot\n",
    "from chatterbot.trainers import ListTrainer\n",
    "\n",
    "chatbot = ChatBot(\"BotJF\")"
   ]
  },
  {
   "cell_type": "code",
   "execution_count": null,
   "metadata": {},
   "outputs": [],
   "source": [
    "chatbot = ChatBot(\"BotJF\")\n",
    "conversa = [\n",
    "  \"Oi\",\n",
    "  \"Eae\",\n",
    "  \"Você tá Bem?\",\n",
    "  \"Tamo de boa.\",\n",
    "  \"Qual ea parada de hoje?\",\n",
    "  \"Juan op nos codigos da vida PY.\",\n",
    "  \"Maluco brabo React e JS tambem\",\n",
    "  \"Oloco.\",\n",
    "]\n",
    "\n",
    "trainer=ListTrainer(chatbot)\n",
    "trainer.train(conversa)"
   ]
  },
  {
   "cell_type": "code",
   "execution_count": 21,
   "metadata": {},
   "outputs": [],
   "source": [
    "while True :\n",
    "  mensagem = input(\"Mande uma mensagem para o chat bot.\")\n",
    "  if mensagem == \"parar\" or mensagem == \"\":\n",
    "    break\n",
    "  resposta = chatbot.get_response(mensagem)\n",
    "  print(resposta)"
   ]
  }
 ],
 "metadata": {
  "kernelspec": {
   "display_name": "Python 3",
   "language": "python",
   "name": "python3"
  },
  "language_info": {
   "codemirror_mode": {
    "name": "ipython",
    "version": 3
   },
   "file_extension": ".py",
   "mimetype": "text/x-python",
   "name": "python",
   "nbconvert_exporter": "python",
   "pygments_lexer": "ipython3",
   "version": "3.10.12"
  },
  "orig_nbformat": 4
 },
 "nbformat": 4,
 "nbformat_minor": 2
}
